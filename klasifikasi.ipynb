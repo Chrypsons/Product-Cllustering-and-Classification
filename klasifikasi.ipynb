{
 "cells": [
  {
   "cell_type": "markdown",
   "metadata": {},
   "source": [
    "# **1. Import Library**"
   ]
  },
  {
   "cell_type": "code",
   "execution_count": 1,
   "metadata": {},
   "outputs": [],
   "source": [
    "import pandas as pd\n",
    "from sklearn.model_selection import train_test_split\n",
    "from sklearn.neighbors import KNeighborsClassifier\n",
    "from sklearn.ensemble import RandomForestClassifier\n",
    "from sklearn.metrics import confusion_matrix, accuracy_score, precision_score, recall_score, f1_score"
   ]
  },
  {
   "cell_type": "markdown",
   "metadata": {},
   "source": [
    "# **2. Memuat Dataset dari Hasil Clustering**"
   ]
  },
  {
   "cell_type": "code",
   "execution_count": 2,
   "metadata": {},
   "outputs": [
    {
     "data": {
      "text/html": [
       "<div>\n",
       "<style scoped>\n",
       "    .dataframe tbody tr th:only-of-type {\n",
       "        vertical-align: middle;\n",
       "    }\n",
       "\n",
       "    .dataframe tbody tr th {\n",
       "        vertical-align: top;\n",
       "    }\n",
       "\n",
       "    .dataframe thead th {\n",
       "        text-align: right;\n",
       "    }\n",
       "</style>\n",
       "<table border=\"1\" class=\"dataframe\">\n",
       "  <thead>\n",
       "    <tr style=\"text-align: right;\">\n",
       "      <th></th>\n",
       "      <th>Product Title</th>\n",
       "      <th>Merchant ID</th>\n",
       "      <th>Cluster Label</th>\n",
       "      <th>Category ID</th>\n",
       "      <th>Category Label</th>\n",
       "      <th>Cluster</th>\n",
       "    </tr>\n",
       "  </thead>\n",
       "  <tbody>\n",
       "    <tr>\n",
       "      <th>0</th>\n",
       "      <td>2561</td>\n",
       "      <td>-1.022159</td>\n",
       "      <td>909</td>\n",
       "      <td>-1.709389</td>\n",
       "      <td>7</td>\n",
       "      <td>2</td>\n",
       "    </tr>\n",
       "    <tr>\n",
       "      <th>1</th>\n",
       "      <td>2559</td>\n",
       "      <td>-1.013629</td>\n",
       "      <td>909</td>\n",
       "      <td>-1.709389</td>\n",
       "      <td>7</td>\n",
       "      <td>2</td>\n",
       "    </tr>\n",
       "    <tr>\n",
       "      <th>2</th>\n",
       "      <td>2656</td>\n",
       "      <td>-1.005099</td>\n",
       "      <td>909</td>\n",
       "      <td>-1.709389</td>\n",
       "      <td>7</td>\n",
       "      <td>2</td>\n",
       "    </tr>\n",
       "    <tr>\n",
       "      <th>3</th>\n",
       "      <td>2563</td>\n",
       "      <td>-0.996569</td>\n",
       "      <td>909</td>\n",
       "      <td>-1.709389</td>\n",
       "      <td>7</td>\n",
       "      <td>2</td>\n",
       "    </tr>\n",
       "    <tr>\n",
       "      <th>4</th>\n",
       "      <td>2565</td>\n",
       "      <td>-0.988039</td>\n",
       "      <td>909</td>\n",
       "      <td>-1.709389</td>\n",
       "      <td>7</td>\n",
       "      <td>2</td>\n",
       "    </tr>\n",
       "    <tr>\n",
       "      <th>...</th>\n",
       "      <td>...</td>\n",
       "      <td>...</td>\n",
       "      <td>...</td>\n",
       "      <td>...</td>\n",
       "      <td>...</td>\n",
       "      <td>...</td>\n",
       "    </tr>\n",
       "    <tr>\n",
       "      <th>35132</th>\n",
       "      <td>27084</td>\n",
       "      <td>-0.527413</td>\n",
       "      <td>11152</td>\n",
       "      <td>1.343838</td>\n",
       "      <td>5</td>\n",
       "      <td>1</td>\n",
       "    </tr>\n",
       "    <tr>\n",
       "      <th>35133</th>\n",
       "      <td>27083</td>\n",
       "      <td>-0.527413</td>\n",
       "      <td>11154</td>\n",
       "      <td>1.343838</td>\n",
       "      <td>5</td>\n",
       "      <td>1</td>\n",
       "    </tr>\n",
       "    <tr>\n",
       "      <th>35134</th>\n",
       "      <td>27082</td>\n",
       "      <td>-0.527413</td>\n",
       "      <td>11153</td>\n",
       "      <td>1.343838</td>\n",
       "      <td>5</td>\n",
       "      <td>1</td>\n",
       "    </tr>\n",
       "    <tr>\n",
       "      <th>35135</th>\n",
       "      <td>6918</td>\n",
       "      <td>0.035574</td>\n",
       "      <td>2685</td>\n",
       "      <td>1.343838</td>\n",
       "      <td>5</td>\n",
       "      <td>2</td>\n",
       "    </tr>\n",
       "    <tr>\n",
       "      <th>35136</th>\n",
       "      <td>19779</td>\n",
       "      <td>0.496200</td>\n",
       "      <td>8039</td>\n",
       "      <td>1.343838</td>\n",
       "      <td>5</td>\n",
       "      <td>0</td>\n",
       "    </tr>\n",
       "  </tbody>\n",
       "</table>\n",
       "<p>35137 rows × 6 columns</p>\n",
       "</div>"
      ],
      "text/plain": [
       "       Product Title   Merchant ID   Cluster Label   Category ID  \\\n",
       "0               2561     -1.022159             909     -1.709389   \n",
       "1               2559     -1.013629             909     -1.709389   \n",
       "2               2656     -1.005099             909     -1.709389   \n",
       "3               2563     -0.996569             909     -1.709389   \n",
       "4               2565     -0.988039             909     -1.709389   \n",
       "...              ...           ...             ...           ...   \n",
       "35132          27084     -0.527413           11152      1.343838   \n",
       "35133          27083     -0.527413           11154      1.343838   \n",
       "35134          27082     -0.527413           11153      1.343838   \n",
       "35135           6918      0.035574            2685      1.343838   \n",
       "35136          19779      0.496200            8039      1.343838   \n",
       "\n",
       "        Category Label  Cluster  \n",
       "0                    7        2  \n",
       "1                    7        2  \n",
       "2                    7        2  \n",
       "3                    7        2  \n",
       "4                    7        2  \n",
       "...                ...      ...  \n",
       "35132                5        1  \n",
       "35133                5        1  \n",
       "35134                5        1  \n",
       "35135                5        2  \n",
       "35136                5        0  \n",
       "\n",
       "[35137 rows x 6 columns]"
      ]
     },
     "execution_count": 2,
     "metadata": {},
     "output_type": "execute_result"
    }
   ],
   "source": [
    "df = pd.read_csv(\"./df_classification.csv\")\n",
    "df"
   ]
  },
  {
   "cell_type": "markdown",
   "metadata": {},
   "source": [
    "# **3. Data Splitting**"
   ]
  },
  {
   "cell_type": "code",
   "execution_count": 3,
   "metadata": {},
   "outputs": [],
   "source": [
    "X = df.drop(columns=[\"Cluster\"])\n",
    "y = df[\"Cluster\"]\n",
    "X_train, X_test, y_train, y_test = train_test_split(X, y, test_size=0.2, random_state=42)"
   ]
  },
  {
   "cell_type": "markdown",
   "metadata": {},
   "source": [
    "# **4. Membangun Model Klasifikasi**"
   ]
  },
  {
   "cell_type": "markdown",
   "metadata": {},
   "source": [
    "## **a. Membangun Model Klasifikasi**"
   ]
  },
  {
   "cell_type": "code",
   "execution_count": 4,
   "metadata": {},
   "outputs": [],
   "source": [
    "# Mencoba algoritma KNN dan Random Forest\n",
    "knn = KNeighborsClassifier().fit(X_train, y_train)\n",
    "rf = RandomForestClassifier().fit(X_train, y_train)"
   ]
  },
  {
   "cell_type": "markdown",
   "metadata": {},
   "source": [
    "## **b. Evaluasi Model Klasifikasi**"
   ]
  },
  {
   "cell_type": "code",
   "execution_count": 5,
   "metadata": {},
   "outputs": [],
   "source": [
    "# Membuat fungsi untuk evaluasi\n",
    "def evaluate_model(model, X, Y):\n",
    "    y_pred = model.predict(X)\n",
    "    result = {\n",
    "        \"Accuracy\": accuracy_score(Y, y_pred),\n",
    "        \"Precision\": precision_score(Y, y_pred, average=\"macro\"),\n",
    "        \"Recall\": recall_score(Y, y_pred, average=\"macro\"),\n",
    "        \"F1 Score\": f1_score(Y, y_pred, average=\"macro\")\n",
    "    }\n",
    "    return result\n",
    "\n",
    "# Membuat fungsi untuk confusion matrix\n",
    "def cm(model, X, Y):\n",
    "    y_pred = model.predict(X)\n",
    "    cm = confusion_matrix(Y, y_pred)\n",
    "    return pd.DataFrame(cm)"
   ]
  },
  {
   "cell_type": "code",
   "execution_count": 6,
   "metadata": {},
   "outputs": [],
   "source": [
    "# Evaluasi KNN\n",
    "evaluasi_train_knn = pd.DataFrame(evaluate_model(knn, X_train, y_train), index=[\"train_knn\"])\n",
    "evaluasi_test_knn = pd.DataFrame(evaluate_model(knn, X_test, y_test), index=[\"test_knn\"])\n",
    "evaluasi_knn = pd.concat([evaluasi_train_knn, evaluasi_test_knn])\n",
    "\n",
    "# Evaluasi Random Forest\n",
    "evaluasi_train_rf = pd.DataFrame(evaluate_model(rf, X_train, y_train), index=[\"train_rf\"])\n",
    "evaluasi_test_rf = pd.DataFrame(evaluate_model(rf, X_test, y_test), index=[\"test_rf\"])\n",
    "evaluasi_rf = pd.concat([evaluasi_train_rf, evaluasi_test_rf])\n",
    "\n",
    "# confusion matrix knn\n",
    "cm_knn = cm(knn, X_test, y_test)\n",
    "\n",
    "# confusion matrix Random Forest\n",
    "cm_rf = cm(rf, X_test, y_test)"
   ]
  },
  {
   "cell_type": "code",
   "execution_count": 7,
   "metadata": {},
   "outputs": [
    {
     "data": {
      "text/html": [
       "<div>\n",
       "<style scoped>\n",
       "    .dataframe tbody tr th:only-of-type {\n",
       "        vertical-align: middle;\n",
       "    }\n",
       "\n",
       "    .dataframe tbody tr th {\n",
       "        vertical-align: top;\n",
       "    }\n",
       "\n",
       "    .dataframe thead th {\n",
       "        text-align: right;\n",
       "    }\n",
       "</style>\n",
       "<table border=\"1\" class=\"dataframe\">\n",
       "  <thead>\n",
       "    <tr style=\"text-align: right;\">\n",
       "      <th></th>\n",
       "      <th>Accuracy</th>\n",
       "      <th>Precision</th>\n",
       "      <th>Recall</th>\n",
       "      <th>F1 Score</th>\n",
       "    </tr>\n",
       "  </thead>\n",
       "  <tbody>\n",
       "    <tr>\n",
       "      <th>train_knn</th>\n",
       "      <td>0.999538</td>\n",
       "      <td>0.999546</td>\n",
       "      <td>0.999534</td>\n",
       "      <td>0.999540</td>\n",
       "    </tr>\n",
       "    <tr>\n",
       "      <th>test_knn</th>\n",
       "      <td>0.999004</td>\n",
       "      <td>0.999024</td>\n",
       "      <td>0.998982</td>\n",
       "      <td>0.999003</td>\n",
       "    </tr>\n",
       "  </tbody>\n",
       "</table>\n",
       "</div>"
      ],
      "text/plain": [
       "           Accuracy  Precision    Recall  F1 Score\n",
       "train_knn  0.999538   0.999546  0.999534  0.999540\n",
       "test_knn   0.999004   0.999024  0.998982  0.999003"
      ]
     },
     "execution_count": 7,
     "metadata": {},
     "output_type": "execute_result"
    }
   ],
   "source": [
    "# Melihat evaluasi KNN\n",
    "evaluasi_knn"
   ]
  },
  {
   "cell_type": "code",
   "execution_count": 8,
   "metadata": {},
   "outputs": [
    {
     "data": {
      "text/html": [
       "<div>\n",
       "<style scoped>\n",
       "    .dataframe tbody tr th:only-of-type {\n",
       "        vertical-align: middle;\n",
       "    }\n",
       "\n",
       "    .dataframe tbody tr th {\n",
       "        vertical-align: top;\n",
       "    }\n",
       "\n",
       "    .dataframe thead th {\n",
       "        text-align: right;\n",
       "    }\n",
       "</style>\n",
       "<table border=\"1\" class=\"dataframe\">\n",
       "  <thead>\n",
       "    <tr style=\"text-align: right;\">\n",
       "      <th></th>\n",
       "      <th>Accuracy</th>\n",
       "      <th>Precision</th>\n",
       "      <th>Recall</th>\n",
       "      <th>F1 Score</th>\n",
       "    </tr>\n",
       "  </thead>\n",
       "  <tbody>\n",
       "    <tr>\n",
       "      <th>train_rf</th>\n",
       "      <td>1.000000</td>\n",
       "      <td>1.000000</td>\n",
       "      <td>1.000000</td>\n",
       "      <td>1.000000</td>\n",
       "    </tr>\n",
       "    <tr>\n",
       "      <th>test_rf</th>\n",
       "      <td>0.999289</td>\n",
       "      <td>0.999304</td>\n",
       "      <td>0.999273</td>\n",
       "      <td>0.999289</td>\n",
       "    </tr>\n",
       "  </tbody>\n",
       "</table>\n",
       "</div>"
      ],
      "text/plain": [
       "          Accuracy  Precision    Recall  F1 Score\n",
       "train_rf  1.000000   1.000000  1.000000  1.000000\n",
       "test_rf   0.999289   0.999304  0.999273  0.999289"
      ]
     },
     "execution_count": 8,
     "metadata": {},
     "output_type": "execute_result"
    }
   ],
   "source": [
    "# Melihat evaluasi Random Forest\n",
    "evaluasi_rf"
   ]
  },
  {
   "cell_type": "code",
   "execution_count": 9,
   "metadata": {},
   "outputs": [
    {
     "data": {
      "text/html": [
       "<div>\n",
       "<style scoped>\n",
       "    .dataframe tbody tr th:only-of-type {\n",
       "        vertical-align: middle;\n",
       "    }\n",
       "\n",
       "    .dataframe tbody tr th {\n",
       "        vertical-align: top;\n",
       "    }\n",
       "\n",
       "    .dataframe thead th {\n",
       "        text-align: right;\n",
       "    }\n",
       "</style>\n",
       "<table border=\"1\" class=\"dataframe\">\n",
       "  <thead>\n",
       "    <tr style=\"text-align: right;\">\n",
       "      <th></th>\n",
       "      <th>0</th>\n",
       "      <th>1</th>\n",
       "      <th>2</th>\n",
       "    </tr>\n",
       "  </thead>\n",
       "  <tbody>\n",
       "    <tr>\n",
       "      <th>0</th>\n",
       "      <td>2310</td>\n",
       "      <td>0</td>\n",
       "      <td>4</td>\n",
       "    </tr>\n",
       "    <tr>\n",
       "      <th>1</th>\n",
       "      <td>3</td>\n",
       "      <td>2261</td>\n",
       "      <td>0</td>\n",
       "    </tr>\n",
       "    <tr>\n",
       "      <th>2</th>\n",
       "      <td>0</td>\n",
       "      <td>0</td>\n",
       "      <td>2450</td>\n",
       "    </tr>\n",
       "  </tbody>\n",
       "</table>\n",
       "</div>"
      ],
      "text/plain": [
       "      0     1     2\n",
       "0  2310     0     4\n",
       "1     3  2261     0\n",
       "2     0     0  2450"
      ]
     },
     "execution_count": 9,
     "metadata": {},
     "output_type": "execute_result"
    }
   ],
   "source": [
    "# Melihat confusion matrix knn\n",
    "cm_knn"
   ]
  },
  {
   "cell_type": "code",
   "execution_count": 10,
   "metadata": {},
   "outputs": [
    {
     "data": {
      "text/html": [
       "<div>\n",
       "<style scoped>\n",
       "    .dataframe tbody tr th:only-of-type {\n",
       "        vertical-align: middle;\n",
       "    }\n",
       "\n",
       "    .dataframe tbody tr th {\n",
       "        vertical-align: top;\n",
       "    }\n",
       "\n",
       "    .dataframe thead th {\n",
       "        text-align: right;\n",
       "    }\n",
       "</style>\n",
       "<table border=\"1\" class=\"dataframe\">\n",
       "  <thead>\n",
       "    <tr style=\"text-align: right;\">\n",
       "      <th></th>\n",
       "      <th>0</th>\n",
       "      <th>1</th>\n",
       "      <th>2</th>\n",
       "    </tr>\n",
       "  </thead>\n",
       "  <tbody>\n",
       "    <tr>\n",
       "      <th>0</th>\n",
       "      <td>2311</td>\n",
       "      <td>0</td>\n",
       "      <td>3</td>\n",
       "    </tr>\n",
       "    <tr>\n",
       "      <th>1</th>\n",
       "      <td>2</td>\n",
       "      <td>2262</td>\n",
       "      <td>0</td>\n",
       "    </tr>\n",
       "    <tr>\n",
       "      <th>2</th>\n",
       "      <td>0</td>\n",
       "      <td>0</td>\n",
       "      <td>2450</td>\n",
       "    </tr>\n",
       "  </tbody>\n",
       "</table>\n",
       "</div>"
      ],
      "text/plain": [
       "      0     1     2\n",
       "0  2311     0     3\n",
       "1     2  2262     0\n",
       "2     0     0  2450"
      ]
     },
     "execution_count": 10,
     "metadata": {},
     "output_type": "execute_result"
    }
   ],
   "source": [
    "# Melihat confusion matrix Random Forest\n",
    "cm_rf"
   ]
  },
  {
   "cell_type": "markdown",
   "metadata": {},
   "source": [
    "## **c. Analisis Hasil Evaluasi Model Klasifikasi**"
   ]
  },
  {
   "cell_type": "markdown",
   "metadata": {},
   "source": [
    "##### **Memilih Random Forest: Karena Random Forest menghasilkan skor hampir sempurna pada data test, itu adalah model yang lebih kuat dan lebih baik dalam kasus ini. Meski ada sedikit perbedaan antara train dan test, skor di test set mendekati 1. Jika kinerja model sangat mendekati 1 pada data test, model tersebut mungkin tidak terlalu overfitting, atau tingkat overfittingnya minimal, karena performa di test set juga hampir sama dengan train set.**"
   ]
  }
 ],
 "metadata": {
  "kernelspec": {
   "display_name": ".venv",
   "language": "python",
   "name": "python3"
  },
  "language_info": {
   "codemirror_mode": {
    "name": "ipython",
    "version": 3
   },
   "file_extension": ".py",
   "mimetype": "text/x-python",
   "name": "python",
   "nbconvert_exporter": "python",
   "pygments_lexer": "ipython3",
   "version": "3.12.6"
  }
 },
 "nbformat": 4,
 "nbformat_minor": 2
}
